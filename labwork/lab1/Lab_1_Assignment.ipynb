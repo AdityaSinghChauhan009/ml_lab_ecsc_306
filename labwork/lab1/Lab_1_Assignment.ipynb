{
 "cells": [
  {
   "cell_type": "markdown",
   "metadata": {
    "slideshow": {
     "slide_type": "slide"
    }
   },
   "source": [
    "## Assignment for Lab1\n",
    "\n",
    "\n",
    "\n",
    "### Write the program to generate tensorboard graph for below equations. \n",
    "##### The code and images should be uploaded to your own repository\n",
    "\n"
   ]
  },
  {
   "cell_type": "markdown",
   "metadata": {
    "slideshow": {
     "slide_type": "slide"
    }
   },
   "source": [
    "## Slot : A1\n",
    "\n",
    "1. $$ (a+b)^2 = a^2 + b^2 + 2ab $$\n",
    "2. $$ (a+b+c)^2 = a^2 + b^2 + 2ab +2bc + 2ca $$\n",
    "\n",
    "\n",
    "## Slot : A2\n",
    "\n",
    "1. $$ (a-b)^2 = a^2 + b^2 - 2ab $$\n",
    "2. $$ (a^3+ b^3) = (a+b)(a^2 -ab + b^2) $$\n",
    "\n",
    "\n",
    "\n",
    "## Slot : B1\n",
    "\n",
    "1. $$ (a+b)^2 = a^2 + b^2 + 2ab $$\n",
    "2. $$ (a^3 - b^3) = (a- b)(a^2 + ab + b^2) $$\n",
    "\n",
    "## Slot : B2\n",
    "\n",
    "1. $$ (a-b)^2 = a^2 + b^2 - 2ab $$\n",
    "2. $$ (a-b-c)^2 = a^2 + b^2  + c^2 -2ab -2ca + 2bc $$\n",
    "\n",
    "\n",
    "## Slot : C1\n",
    "\n",
    "1. $$ (a+b)^2 = a^2 + b^2 + 2ab $$\n",
    "2. $$ (a-b+c) ^2 =  a^2 +b^2 + c^2 -2xy -2yz + 2xz$$\n",
    "\n",
    "\n",
    "\n",
    "## Slot : C2\n",
    "\n",
    "1. $$ (a-b)^2 = a^2 + b^2 - 2ab $$\n",
    "2. $$ (a+b)^3 = a^3 + b^3 + 3ab(a+b) $$\n",
    "\n",
    "## Slot D1\n",
    "1. $$ (a+b)^2 = a^2 + b^2 + 2ab $$\n",
    "2. $$ (a-b)^3 = a^3 - b^3 + 3ab(a-b) $$\n",
    "\n",
    "## Slot D2\n",
    "1. $$ (a-b)^2 = a^2 + b^2 - 2ab $$\n",
    "2. $$ (a + b-c) ^2 = a^2 + b^2 + c^2 + 2xy -2yz -2xz $$\n"
   ]
  },
  {
   "cell_type": "markdown",
   "metadata": {
    "collapsed": true
   },
   "source": [
    "#LAB 1 ASSIGNMENT SLOT A1"
   ]
  },
  {
   "cell_type": "code",
   "execution_count": 1,
   "metadata": {},
   "outputs": [
    {
     "name": "stdout",
     "output_type": "stream",
     "text": [
      "Enter the value of a => 7\n",
      "Enter the value of b => 5\n",
      "144\n"
     ]
    }
   ],
   "source": [
    "import tensorflow as tf\n",
    "\n",
    "a=input(\"Enter the value of a => \")\n",
    "b=input(\"Enter the value of b => \")\n",
    "\n",
    "a=int(a)\n",
    "b=int(b)\n",
    "\n",
    "with tf.name_scope(\"PART1\"):\n",
    "    with tf.name_scope(\"Computing_squares\"):\n",
    "        c=tf.multiply(a,a,name=\"a_square\")\n",
    "        d=tf.multiply(b,b,name=\"b_square\")\n",
    "    with tf.name_scope(\"Computing_a_mul_b\"):\n",
    "        e=tf.multiply(a,b,name=\"a_mul_b\")\n",
    "\n",
    "with tf.name_scope(\"PART2\"):\n",
    "    f=tf.add(c,d,name=\"squares_addition\")\n",
    "    g=tf.multiply(2,e,name=\"mul_2\")\n",
    "    \n",
    "h=tf.add(f,g,name=\"Solution\")\n",
    "\n",
    "with tf.Session() as sess:\n",
    "    writer=tf.summary.FileWriter(\"/tmp/tboard/lab01\", sess.graph)\n",
    "    print(sess.run(h))\n",
    "    writer.close()\n"
   ]
  },
  {
   "cell_type": "code",
   "execution_count": null,
   "metadata": {
    "collapsed": true
   },
   "outputs": [],
   "source": [
    "%%sh\n",
    "tensorboard --logdir=tmp/tboard/lab01"
   ]
  },
  {
   "cell_type": "code",
   "execution_count": 1,
   "metadata": {},
   "outputs": [
    {
     "name": "stdout",
     "output_type": "stream",
     "text": [
      "Enter the value of a => 5\n",
      "Enter the value of b => 4\n",
      "Enter the value of c => 3\n",
      "144\n"
     ]
    }
   ],
   "source": [
    "import tensorflow as tf\n",
    "\n",
    "a=input(\"Enter the value of a => \")\n",
    "b=input(\"Enter the value of b => \")\n",
    "c=input(\"Enter the value of c => \")\n",
    "\n",
    "a=int(a)\n",
    "b=int(b)\n",
    "c=int(c)\n",
    "\n",
    "with tf.name_scope(\"PART1\"):\n",
    "    with tf.name_scope(\"Computing_squares\"):\n",
    "        d=tf.multiply(a,a,name=\"a_square\")\n",
    "        e=tf.multiply(b,b,name=\"b_square\")\n",
    "        f=tf.multiply(c,c,name=\"c_square\")\n",
    "    with tf.name_scope(\"Computing_mulps\"):\n",
    "        g=tf.multiply(a,b,name=\"a_mul_b\")\n",
    "        h=tf.multiply(b,c,name=\"b_mul_c\")\n",
    "        i=tf.multiply(a,c,name=\"a_mul_c\")\n",
    "        \n",
    "with tf.name_scope(\"PART2\"):\n",
    "    j=tf.add(d,e,name=\"a2b2_addition\")\n",
    "    k=tf.add(j,f,name=\"a2b2c2_addition\")\n",
    "    l=tf.multiply(2,g,name=\"2ab\")\n",
    "    m=tf.multiply(2,h,name=\"2bc\")\n",
    "    n=tf.multiply(2,i,name=\"2ac\")\n",
    "    \n",
    "o=tf.add(k,l,name=\"solpart1\")\n",
    "p=tf.add(o,m,name=\"solpart2\")\n",
    "q=tf.add(p,n,name=\"Solution\")\n",
    "\n",
    "with tf.Session() as sess:\n",
    "    writer=tf.summary.FileWriter(\"/tmp/tboard/lab01b\", sess.graph)\n",
    "    print(sess.run(q))\n",
    "    writer.close()"
   ]
  }
 ],
 "metadata": {
  "celltoolbar": "Slideshow",
  "kernelspec": {
   "display_name": "Python 3",
   "language": "python",
   "name": "python3"
  },
  "language_info": {
   "codemirror_mode": {
    "name": "ipython",
    "version": 3
   },
   "file_extension": ".py",
   "mimetype": "text/x-python",
   "name": "python",
   "nbconvert_exporter": "python",
   "pygments_lexer": "ipython3",
   "version": "3.6.2"
  }
 },
 "nbformat": 4,
 "nbformat_minor": 2
}
