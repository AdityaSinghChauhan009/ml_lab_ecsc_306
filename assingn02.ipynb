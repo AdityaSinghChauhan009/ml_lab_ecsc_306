{
 "cells": [
  {
   "cell_type": "code",
   "execution_count": 3,
   "metadata": {},
   "outputs": [
    {
     "name": "stdout",
     "output_type": "stream",
     "text": [
      "10.4580555556\n",
      "13.152\n",
      "1.25759515525\n",
      "Tensor(\"Mul_2:0\", shape=(), dtype=float64)\n",
      "Tensor(\"Sub_2:0\", shape=(), dtype=float64)\n",
      "1.50709660283\n"
     ]
    }
   ],
   "source": [
    "import tensorflow as tf\n",
    "import pandas as pd\n",
    "import numpy as np\n",
    "x=np.array([15.1,11.4,7.6,16.5,8.4,11.1])\n",
    "y=np.array([24.8,11.4,13,21.3,18.4,8.3])\n",
    "mean_x=np.mean(x)\n",
    "mean_y=np.mean(y)\n",
    "varx=np.var(x)\n",
    "print(varx)\n",
    "covxy=np.cov(x,y)[1][0]\n",
    "print(covxy)\n",
    "m=tf.divide(covxy,varx)\n",
    "print(m)\n",
    "temp=tf.multiply(m,mean_x)\n",
    "print(temp)\n",
    "c=tf.subtract(mean_y,temp)\n",
    "print(c)\n",
    "with tf.Session() as sess:\n",
    "    writer = tf.summary.FileWriter(\"/tmp/tboard/output9\",sess.graph)\n",
    "    print(sess.run(c))\n",
    "    writer.close()"
   ]
  },
  {
   "cell_type": "code",
   "execution_count": null,
   "metadata": {
    "collapsed": true
   },
   "outputs": [],
   "source": []
  },
  {
   "cell_type": "code",
   "execution_count": null,
   "metadata": {
    "collapsed": true
   },
   "outputs": [],
   "source": []
  }
 ],
 "metadata": {
  "kernelspec": {
   "display_name": "Python 3",
   "language": "python",
   "name": "python3"
  },
  "language_info": {
   "codemirror_mode": {
    "name": "ipython",
    "version": 3
   },
   "file_extension": ".py",
   "mimetype": "text/x-python",
   "name": "python",
   "nbconvert_exporter": "python",
   "pygments_lexer": "ipython3",
   "version": "3.6.1"
  }
 },
 "nbformat": 4,
 "nbformat_minor": 2
}
